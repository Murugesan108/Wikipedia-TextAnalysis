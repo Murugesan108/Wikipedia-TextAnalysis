{
 "cells": [
  {
   "cell_type": "code",
   "execution_count": 65,
   "metadata": {},
   "outputs": [],
   "source": [
    "import wikipedia\n",
    "import pandas as pd\n",
    "import numpy as np\n",
    "import nltk\n",
    "from collections import Counter\n",
    "from nltk.corpus import stopwords\n",
    "import string\n",
    "import wordcloud"
   ]
  },
  {
   "cell_type": "code",
   "execution_count": 56,
   "metadata": {},
   "outputs": [],
   "source": [
    "#Using Wikipedia to get the content\n",
    "pages = ['Facebook','Google','Amazon (company)','Apple','Microsoft','WalmartLabs','Samsung','Twitter',\n",
    "         'Motorolla','Intel','Cisco','Alibaba','OnePlus','Sony']\n",
    "\n",
    "content = {}\n",
    "content_list = []\n",
    "for each in pages:\n",
    "    #print(each)\n",
    "    content_list.append(wikipedia.page(each).content)\n",
    "    content[each] = wikipedia.page(each).content"
   ]
  },
  {
   "cell_type": "code",
   "execution_count": 59,
   "metadata": {},
   "outputs": [
    {
     "name": "stdout",
     "output_type": "stream",
     "text": [
      "668224\n"
     ]
    }
   ],
   "source": [
    "#Combining all the documents together\n",
    "collated_content = \" \".join(content_list)\n",
    "\n",
    "#Total number of words\n",
    "print(len(collated_content))\n",
    "\n",
    "doc_tokens = nltk.word_tokenize(collated_content)\n",
    "\n",
    "#Getting the stop words\n",
    "stop_words = set(stopwords.words('english'))\n",
    "\n",
    "all_stops = stop_words | set(string.punctuation) | set([each.lower() for each in pages])\n",
    "\n",
    "#Removing stop words\n",
    "doc_tokens = [each for each in doc_tokens if each.lower() not in all_stops]"
   ]
  },
  {
   "cell_type": "code",
   "execution_count": 66,
   "metadata": {},
   "outputs": [
    {
     "data": {
      "text/plain": [
       "[(\"'s\", 807),\n",
       " ('``', 712),\n",
       " (\"''\", 666),\n",
       " ('===', 614),\n",
       " ('company', 541),\n",
       " ('==', 288),\n",
       " ('announced', 276),\n",
       " ('users', 260),\n",
       " ('also', 260),\n",
       " ('million', 259),\n",
       " ('====', 248),\n",
       " ('Alabama', 247),\n",
       " ('first', 201),\n",
       " ('billion', 200),\n",
       " ('new', 191),\n",
       " ('state', 187),\n",
       " ('Amazon', 184),\n",
       " ('2011', 178),\n",
       " ('Motorola', 170),\n",
       " ('would', 161)]"
      ]
     },
     "execution_count": 66,
     "metadata": {},
     "output_type": "execute_result"
    }
   ],
   "source": [
    "#Getting the word frequency using token_freq\n",
    "token_freq = Counter(doc_tokens)\n",
    "token_freq.most_common(20)"
   ]
  },
  {
   "cell_type": "markdown",
   "metadata": {},
   "source": [
    "#### Word cloud"
   ]
  },
  {
   "cell_type": "code",
   "execution_count": null,
   "metadata": {},
   "outputs": [],
   "source": []
  },
  {
   "cell_type": "code",
   "execution_count": null,
   "metadata": {},
   "outputs": [],
   "source": []
  },
  {
   "cell_type": "code",
   "execution_count": null,
   "metadata": {},
   "outputs": [],
   "source": [
    "### STEPS YOU WISH TO DO\n",
    "#1) Tokenize each work - word ferquency - word cloud\n",
    "#2) Get word2vec and glove representation of each word - select a word and see the most similar word to it\n",
    "#3) Now, try to do the preprocessing and see if that changes\n",
    "\n",
    "## LANGUAGE MODEL ### \n",
    "#4) Setence level tokenization\n",
    "#5) Create a language model with LSTM/GRU\n",
    "#6) Now try to generate language on your own\n",
    "\n",
    "## TOPIC MODELING ### \n",
    "#7) Select around 2-3 topics and see if there is any proper topics\n",
    "\n",
    "\n",
    "## INCREASE THE SIZE OF INPUT DATA AND SEE IF THE RESULT CHANGES ###\n",
    "#8) REPEAT THE ABOVE STEPS\n",
    "\n",
    "## Document similarity ##\n",
    "\n",
    "### FINAL OUTPUT ###\n",
    "#1) Generate language from where you start\n",
    "#2) Suggest related topics for Wikipedia articles"
   ]
  }
 ],
 "metadata": {
  "kernelspec": {
   "display_name": "Python 3",
   "language": "python",
   "name": "python3"
  },
  "language_info": {
   "codemirror_mode": {
    "name": "ipython",
    "version": 3
   },
   "file_extension": ".py",
   "mimetype": "text/x-python",
   "name": "python",
   "nbconvert_exporter": "python",
   "pygments_lexer": "ipython3",
   "version": "3.6.4"
  }
 },
 "nbformat": 4,
 "nbformat_minor": 2
}
